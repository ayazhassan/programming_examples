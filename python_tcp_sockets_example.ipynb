{
 "cells": [
  {
   "cell_type": "markdown",
   "metadata": {},
   "source": [
    "# TCP/IP Client and Server\n",
    "Sockets can be configured to act as a server and listen for incoming messages, or connect to other applications as a client. After both ends of a TCP/IP socket are connected, communication is bi-directional."
   ]
  },
  {
   "cell_type": "markdown",
   "metadata": {},
   "source": [
    "# Echo Server\n",
    "This sample program, based on the one in the standard library documentation, receives incoming messages and echos them back to the sender. It starts by creating a TCP/IP socket."
   ]
  },
  {
   "cell_type": "code",
   "execution_count": null,
   "metadata": {
    "collapsed": true
   },
   "outputs": [],
   "source": [
    "import socket\n",
    "import sys\n",
    "\n",
    "# Create a TCP/IP socket\n",
    "sock = socket.socket(socket.AF_INET, socket.SOCK_STREAM)"
   ]
  },
  {
   "cell_type": "markdown",
   "metadata": {},
   "source": [
    "Then bind() is used to associate the socket with the server address. In this case, the address is localhost, referring to the current server, and the port number is 10000."
   ]
  },
  {
   "cell_type": "code",
   "execution_count": null,
   "metadata": {
    "collapsed": false
   },
   "outputs": [],
   "source": [
    "# Bind the socket to the port\n",
    "server_address = ('localhost', 10000)\n",
    "print >>sys.stderr, 'starting up on %s port %s' % server_address\n",
    "sock.bind(server_address)"
   ]
  },
  {
   "cell_type": "markdown",
   "metadata": {},
   "source": [
    "Calling listen() puts the socket into server mode, and accept() waits for an incoming connection."
   ]
  },
  {
   "cell_type": "code",
   "execution_count": null,
   "metadata": {
    "collapsed": false
   },
   "outputs": [],
   "source": [
    "# Listen for incoming connections\n",
    "sock.listen(1)\n",
    "\n",
    "while True:\n",
    "    # Wait for a connection\n",
    "    print >>sys.stderr, 'waiting for a connection'\n",
    "    connection, client_address = sock.accept()"
   ]
  },
  {
   "cell_type": "markdown",
   "metadata": {},
   "source": [
    "accept() returns an open connection between the server and client, along with the address of the client. The connection is actually a different socket on another port (assigned by the kernel). Data is read from the connection with recv() and transmitted with sendall()."
   ]
  },
  {
   "cell_type": "code",
   "execution_count": null,
   "metadata": {
    "collapsed": true
   },
   "outputs": [],
   "source": [
    "    try:\n",
    "        print >>sys.stderr, 'connection from', client_address\n",
    "\n",
    "        # Receive the data in small chunks and retransmit it\n",
    "        while True:\n",
    "            data = connection.recv(16)\n",
    "            print >>sys.stderr, 'received \"%s\"' % data\n",
    "            if data:\n",
    "                print >>sys.stderr, 'sending data back to the client'\n",
    "                connection.sendall(data)\n",
    "            else:\n",
    "                print >>sys.stderr, 'no more data from', client_address\n",
    "                break\n",
    "            \n",
    "    finally:\n",
    "        # Clean up the connection\n",
    "        connection.close()"
   ]
  },
  {
   "cell_type": "markdown",
   "metadata": {},
   "source": [
    "When communication with a client is finished, the connection needs to be cleaned up using close(). This example uses a try:finally block to ensure that close() is always called, even in the event of an error."
   ]
  },
  {
   "cell_type": "markdown",
   "metadata": {},
   "source": [
    "# Echo Client\n",
    "The client program sets up its socket differently from the way a server does. Instead of binding to a port and listening, it uses connect() to attach the socket directly to the remote address."
   ]
  },
  {
   "cell_type": "code",
   "execution_count": null,
   "metadata": {
    "collapsed": true
   },
   "outputs": [],
   "source": [
    "import socket\n",
    "import sys\n",
    "\n",
    "# Create a TCP/IP socket\n",
    "sock = socket.socket(socket.AF_INET, socket.SOCK_STREAM)\n",
    "\n",
    "# Connect the socket to the port where the server is listening\n",
    "server_address = ('localhost', 10000)\n",
    "print >>sys.stderr, 'connecting to %s port %s' % server_address\n",
    "sock.connect(server_address)"
   ]
  },
  {
   "cell_type": "markdown",
   "metadata": {},
   "source": [
    "After the connection is established, data can be sent through the socket with sendall() and received with recv(), just as in the server."
   ]
  },
  {
   "cell_type": "code",
   "execution_count": null,
   "metadata": {
    "collapsed": true
   },
   "outputs": [],
   "source": [
    "try:\n",
    "    \n",
    "    # Send data\n",
    "    message = 'This is the message.  It will be repeated.'\n",
    "    print >>sys.stderr, 'sending \"%s\"' % message\n",
    "    sock.sendall(message)\n",
    "\n",
    "    # Look for the response\n",
    "    amount_received = 0\n",
    "    amount_expected = len(message)\n",
    "    \n",
    "    while amount_received < amount_expected:\n",
    "        data = sock.recv(16)\n",
    "        amount_received += len(data)\n",
    "        print >>sys.stderr, 'received \"%s\"' % data\n",
    "\n",
    "finally:\n",
    "    print >>sys.stderr, 'closing socket'\n",
    "    sock.close()"
   ]
  },
  {
   "cell_type": "markdown",
   "metadata": {},
   "source": [
    "When the entire message is sent and a copy received, the socket is closed to free up the port."
   ]
  },
  {
   "cell_type": "markdown",
   "metadata": {},
   "source": [
    "# Client and Server Together\n",
    "The client and server should be run in separate terminal windows, so they can communicate with each other. The server output is:"
   ]
  },
  {
   "cell_type": "markdown",
   "metadata": {},
   "source": [
    "$ python ./socket_echo_server.py\n",
    "\n",
    "starting up on localhost port 10000\n",
    "waiting for a connection\n",
    "connection from ('127.0.0.1', 52186)\n",
    "received \"This is the mess\"\n",
    "sending data back to the client\n",
    "received \"age.  It will be\"\n",
    "sending data back to the client\n",
    "received \" repeated.\"\n",
    "sending data back to the client\n",
    "received \"\"\n",
    "no more data from ('127.0.0.1', 52186)\n",
    "waiting for a connection"
   ]
  },
  {
   "cell_type": "markdown",
   "metadata": {},
   "source": [
    "The client output is:"
   ]
  },
  {
   "cell_type": "markdown",
   "metadata": {},
   "source": [
    "$ python socket_echo_client.py\n",
    "\n",
    "connecting to localhost port 10000\n",
    "sending \"This is the message.  It will be repeated.\"\n",
    "received \"This is the mess\"\n",
    "received \"age.  It will be\"\n",
    "received \" repeated.\"\n",
    "closing socket"
   ]
  },
  {
   "cell_type": "markdown",
   "metadata": {},
   "source": [
    "# Easy Client Connections\n",
    "TCP/IP clients can save a few steps by using the convenience function create_connection() to connect to a server. The function takes one argument, a two-value tuple containing the address of the server, and derives the best address to use for the connection."
   ]
  },
  {
   "cell_type": "code",
   "execution_count": null,
   "metadata": {
    "collapsed": true
   },
   "outputs": [],
   "source": [
    "import socket\n",
    "import sys\n",
    "\n",
    "def get_constants(prefix):\n",
    "    \"\"\"Create a dictionary mapping socket module constants to their names.\"\"\"\n",
    "    return dict( (getattr(socket, n), n)\n",
    "                 for n in dir(socket)\n",
    "                 if n.startswith(prefix)\n",
    "                 )\n",
    "\n",
    "families = get_constants('AF_')\n",
    "types = get_constants('SOCK_')\n",
    "protocols = get_constants('IPPROTO_')\n",
    "\n",
    "# Create a TCP/IP socket\n",
    "sock = socket.create_connection(('localhost', 10000))\n",
    "\n",
    "print >>sys.stderr, 'Family  :', families[sock.family]\n",
    "print >>sys.stderr, 'Type    :', types[sock.type]\n",
    "print >>sys.stderr, 'Protocol:', protocols[sock.proto]\n",
    "print >>sys.stderr\n",
    "\n",
    "try:\n",
    "    \n",
    "    # Send data\n",
    "    message = 'This is the message.  It will be repeated.'\n",
    "    print >>sys.stderr, 'sending \"%s\"' % message\n",
    "    sock.sendall(message)\n",
    "\n",
    "    amount_received = 0\n",
    "    amount_expected = len(message)\n",
    "    \n",
    "    while amount_received < amount_expected:\n",
    "        data = sock.recv(16)\n",
    "        amount_received += len(data)\n",
    "        print >>sys.stderr, 'received \"%s\"' % data\n",
    "\n",
    "finally:\n",
    "    print >>sys.stderr, 'closing socket'\n",
    "    sock.close()"
   ]
  },
  {
   "cell_type": "markdown",
   "metadata": {},
   "source": [
    "create_connection() uses getaddrinfo() to find candidate connection parameters, and returns a socket opened with the first configuration that creates a successful connection. The family, type, and proto attributes can be examined to determine the type of socket being returned."
   ]
  },
  {
   "cell_type": "markdown",
   "metadata": {},
   "source": [
    "$ python socket_echo_client_easy.py\n",
    "\n",
    "Family  : AF_INET\n",
    "Type    : SOCK_STREAM\n",
    "Protocol: IPPROTO_TCP\n",
    "\n",
    "sending \"This is the message.  It will be repeated.\"\n",
    "received \"This is the mess\"\n",
    "received \"age.  It will be\"\n",
    "received \" repeated.\"\n",
    "closing socket"
   ]
  },
  {
   "cell_type": "markdown",
   "metadata": {},
   "source": [
    "# Choosing an Address for Listening\n",
    "It is important to bind a server to the correct address, so that clients can communicate with it. The previous examples all used 'localhost' as the IP address, which limits connections to clients running on the same server. Use a public address of the server, such as the value returned by gethostname(), to allow other hosts to connect. This example modifies the echo server to listen on an address specified via a command line argument."
   ]
  },
  {
   "cell_type": "code",
   "execution_count": null,
   "metadata": {
    "collapsed": true
   },
   "outputs": [],
   "source": [
    "import socket\n",
    "import sys\n",
    "\n",
    "# Create a TCP/IP socket\n",
    "sock = socket.socket(socket.AF_INET, socket.SOCK_STREAM)\n",
    "\n",
    "# Bind the socket to the address given on the command line\n",
    "server_name = sys.argv[1]\n",
    "server_address = (server_name, 10000)\n",
    "print >>sys.stderr, 'starting up on %s port %s' % server_address\n",
    "sock.bind(server_address)\n",
    "sock.listen(1)\n",
    "\n",
    "while True:\n",
    "    print >>sys.stderr, 'waiting for a connection'\n",
    "    connection, client_address = sock.accept()\n",
    "    try:\n",
    "        print >>sys.stderr, 'client connected:', client_address\n",
    "        while True:\n",
    "            data = connection.recv(16)\n",
    "            print >>sys.stderr, 'received \"%s\"' % data\n",
    "            if data:\n",
    "                connection.sendall(data)\n",
    "            else:\n",
    "                break\n",
    "    finally:\n",
    "        connection.close()"
   ]
  },
  {
   "cell_type": "markdown",
   "metadata": {},
   "source": [
    "A similar modification to the client program is needed before the server can be tested."
   ]
  },
  {
   "cell_type": "code",
   "execution_count": null,
   "metadata": {
    "collapsed": true
   },
   "outputs": [],
   "source": [
    "import socket\n",
    "import sys\n",
    "\n",
    "# Create a TCP/IP socket\n",
    "sock = socket.socket(socket.AF_INET, socket.SOCK_STREAM)\n",
    "\n",
    "# Connect the socket to the port on the server given by the caller\n",
    "server_address = (sys.argv[1], 10000)\n",
    "print >>sys.stderr, 'connecting to %s port %s' % server_address\n",
    "sock.connect(server_address)\n",
    "\n",
    "try:\n",
    "    \n",
    "    message = 'This is the message.  It will be repeated.'\n",
    "    print >>sys.stderr, 'sending \"%s\"' % message\n",
    "    sock.sendall(message)\n",
    "\n",
    "    amount_received = 0\n",
    "    amount_expected = len(message)\n",
    "    while amount_received < amount_expected:\n",
    "        data = sock.recv(16)\n",
    "        amount_received += len(data)\n",
    "        print >>sys.stderr, 'received \"%s\"' % data\n",
    "\n",
    "finally:\n",
    "    sock.close()"
   ]
  },
  {
   "cell_type": "markdown",
   "metadata": {},
   "source": [
    "After starting the server with the argument farnsworth.hellfly.net, the netstat command shows it listening on the address for the named host."
   ]
  },
  {
   "cell_type": "markdown",
   "metadata": {},
   "source": [
    "$ host farnsworth.hellfly.net\n",
    "\n",
    "farnsworth.hellfly.net has address 192.168.1.17\n",
    "\n",
    "$ netstat -an\n",
    "\n",
    "Active Internet connections (including servers)\n",
    "Proto Recv-Q Send-Q  Local Address          Foreign Address        (state)\n",
    "...\n",
    "tcp4       0      0  192.168.1.17.10000     *.*                    LISTEN\n",
    "..."
   ]
  },
  {
   "cell_type": "markdown",
   "metadata": {},
   "source": [
    "Running the the client on another host, passing farnsworth.hellfly.net as the host where the server is running, produces:"
   ]
  },
  {
   "cell_type": "markdown",
   "metadata": {},
   "source": [
    "$ hostname\n",
    "\n",
    "homer\n",
    "\n",
    "$ python socket_echo_client_explicit.py farnsworth.hellfly.net\n",
    "\n",
    "connecting to farnsworth.hellfly.net port 10000\n",
    "sending \"This is the message.  It will be repeated.\"\n",
    "received \"This is the mess\"\n",
    "received \"age.  It will be\"\n",
    "received \" repeated.\""
   ]
  },
  {
   "cell_type": "markdown",
   "metadata": {},
   "source": [
    "And the server output is:"
   ]
  },
  {
   "cell_type": "markdown",
   "metadata": {},
   "source": [
    "$ python ./socket_echo_server_explicit.py farnsworth.hellfly.net\n",
    "\n",
    "starting up on farnsworth.hellfly.net port 10000\n",
    "waiting for a connection\n",
    "client connected: ('192.168.1.8', 57471)\n",
    "received \"This is the mess\"\n",
    "received \"age.  It will be\"\n",
    "received \" repeated.\"\n",
    "received \"\"\n",
    "waiting for a connection"
   ]
  },
  {
   "cell_type": "markdown",
   "metadata": {},
   "source": [
    "Many servers have more than one network interface, and therefore more than one IP address. Rather than running separate copies of a service bound to each IP address, use the special address INADDR_ANY to listen on all addresses at the same time. Although socket defines a constant for INADDR_ANY, it is an integer value and must be converted to a dotted-notation string address before it can be passed to bind(). As a shortcut, use the empty string '' instead of doing the conversion."
   ]
  },
  {
   "cell_type": "code",
   "execution_count": null,
   "metadata": {
    "collapsed": true
   },
   "outputs": [],
   "source": [
    "import socket\n",
    "import sys\n",
    "\n",
    "# Create a TCP/IP socket\n",
    "sock = socket.socket(socket.AF_INET, socket.SOCK_STREAM)\n",
    "\n",
    "# Bind the socket to the address given on the command line\n",
    "server_address = ('', 10000)\n",
    "sock.bind(server_address)\n",
    "print >>sys.stderr, 'starting up on %s port %s' % sock.getsockname()\n",
    "sock.listen(1)\n",
    "\n",
    "while True:\n",
    "    print >>sys.stderr, 'waiting for a connection'\n",
    "    connection, client_address = sock.accept()\n",
    "    try:\n",
    "        print >>sys.stderr, 'client connected:', client_address\n",
    "        while True:\n",
    "            data = connection.recv(16)\n",
    "            print >>sys.stderr, 'received \"%s\"' % data\n",
    "            if data:\n",
    "                connection.sendall(data)\n",
    "            else:\n",
    "                break\n",
    "    finally:\n",
    "        connection.close()"
   ]
  },
  {
   "cell_type": "markdown",
   "metadata": {},
   "source": [
    "To see the actual address being used by a socket, call its getsockname() method. After starting the service, running netstat again shows it listening for incoming connections on any address."
   ]
  },
  {
   "cell_type": "markdown",
   "metadata": {},
   "source": [
    "$ netstat -an\n",
    "\n",
    "Active Internet connections (including servers)\n",
    "Proto Recv-Q Send-Q  Local Address          Foreign Address        (state)\n",
    "...\n",
    "tcp4       0      0  *.10000                *.*                    LISTEN\n",
    "..."
   ]
  }
 ],
 "metadata": {
  "anaconda-cloud": {},
  "kernelspec": {
   "display_name": "Python [default]",
   "language": "python",
   "name": "python2"
  },
  "language_info": {
   "codemirror_mode": {
    "name": "ipython",
    "version": 2
   },
   "file_extension": ".py",
   "mimetype": "text/x-python",
   "name": "python",
   "nbconvert_exporter": "python",
   "pygments_lexer": "ipython2",
   "version": "2.7.12"
  }
 },
 "nbformat": 4,
 "nbformat_minor": 1
}
